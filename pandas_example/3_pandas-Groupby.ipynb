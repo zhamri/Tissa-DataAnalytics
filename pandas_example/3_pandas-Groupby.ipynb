{
 "cells": [
  {
   "cell_type": "markdown",
   "metadata": {
    "collapsed": true,
    "pycharm": {
     "name": "#%% md\n"
    }
   },
   "source": [
    "# Groupby\n",
    "___"
   ]
  },
  {
   "cell_type": "code",
   "execution_count": 34,
   "metadata": {
    "collapsed": true,
    "pycharm": {
     "name": "#%%\n"
    }
   },
   "outputs": [],
   "source": [
    "import pandas as pd\n",
    "# Dictionary\n",
    "data = {'School':['SOC','SOC','TISSA','TISSA','SEFB','SEFB'],\n",
    "       'Person':['Zhamri','Zabidin','Hairi','Ayob','Halim','Fuad'],\n",
    "       'Grant':[20000,12000,31000,41000,24000,35000]}"
   ]
  },
  {
   "cell_type": "code",
   "execution_count": 35,
   "metadata": {
    "collapsed": false,
    "pycharm": {
     "name": "#%%\n"
    }
   },
   "outputs": [],
   "source": [
    "df = pd.DataFrame(data)"
   ]
  },
  {
   "cell_type": "code",
   "execution_count": 36,
   "metadata": {
    "collapsed": false,
    "pycharm": {
     "name": "#%%\n"
    }
   },
   "outputs": [
    {
     "data": {
      "text/plain": "  School   Person  Grant\n0    SOC   Zhamri  20000\n1    SOC  Zabidin  12000\n2  TISSA    Hairi  31000\n3  TISSA     Ayob  41000\n4   SEFB    Halim  24000\n5   SEFB     Fuad  35000",
      "text/html": "<div>\n<style scoped>\n    .dataframe tbody tr th:only-of-type {\n        vertical-align: middle;\n    }\n\n    .dataframe tbody tr th {\n        vertical-align: top;\n    }\n\n    .dataframe thead th {\n        text-align: right;\n    }\n</style>\n<table border=\"1\" class=\"dataframe\">\n  <thead>\n    <tr style=\"text-align: right;\">\n      <th></th>\n      <th>School</th>\n      <th>Person</th>\n      <th>Grant</th>\n    </tr>\n  </thead>\n  <tbody>\n    <tr>\n      <th>0</th>\n      <td>SOC</td>\n      <td>Zhamri</td>\n      <td>20000</td>\n    </tr>\n    <tr>\n      <th>1</th>\n      <td>SOC</td>\n      <td>Zabidin</td>\n      <td>12000</td>\n    </tr>\n    <tr>\n      <th>2</th>\n      <td>TISSA</td>\n      <td>Hairi</td>\n      <td>31000</td>\n    </tr>\n    <tr>\n      <th>3</th>\n      <td>TISSA</td>\n      <td>Ayob</td>\n      <td>41000</td>\n    </tr>\n    <tr>\n      <th>4</th>\n      <td>SEFB</td>\n      <td>Halim</td>\n      <td>24000</td>\n    </tr>\n    <tr>\n      <th>5</th>\n      <td>SEFB</td>\n      <td>Fuad</td>\n      <td>35000</td>\n    </tr>\n  </tbody>\n</table>\n</div>"
     },
     "execution_count": 36,
     "metadata": {},
     "output_type": "execute_result"
    }
   ],
   "source": [
    "df"
   ]
  },
  {
   "cell_type": "code",
   "execution_count": 37,
   "outputs": [
    {
     "data": {
      "text/plain": "<AxesSubplot:xlabel='Person'>"
     },
     "execution_count": 37,
     "metadata": {},
     "output_type": "execute_result"
    },
    {
     "data": {
      "text/plain": "<Figure size 432x288 with 1 Axes>",
      "image/png": "[encoded data removed]"
     },
     "metadata": {},
     "output_type": "display_data"
    }
   ],
   "source": [
    "import matplotlib.pyplot as plt\n",
    "plt.style.use('ggplot')\n",
    "df.plot.bar(x='Person', colormap='Paired')"
   ],
   "metadata": {
    "collapsed": false,
    "pycharm": {
     "name": "#%%\n"
    }
   }
  },
  {
   "cell_type": "code",
   "execution_count": 38,
   "metadata": {
    "collapsed": true,
    "pycharm": {
     "name": "#%%\n"
    }
   },
   "outputs": [],
   "source": [
    "by_school = df.groupby(\"School\")"
   ]
  },
  {
   "cell_type": "code",
   "execution_count": 39,
   "metadata": {
    "collapsed": false,
    "pycharm": {
     "name": "#%%\n"
    }
   },
   "outputs": [
    {
     "data": {
      "text/plain": "        Grant\nSchool       \nSEFB    29500\nSOC     16000\nTISSA   36000",
      "text/html": "<div>\n<style scoped>\n    .dataframe tbody tr th:only-of-type {\n        vertical-align: middle;\n    }\n\n    .dataframe tbody tr th {\n        vertical-align: top;\n    }\n\n    .dataframe thead th {\n        text-align: right;\n    }\n</style>\n<table border=\"1\" class=\"dataframe\">\n  <thead>\n    <tr style=\"text-align: right;\">\n      <th></th>\n      <th>Grant</th>\n    </tr>\n    <tr>\n      <th>School</th>\n      <th></th>\n    </tr>\n  </thead>\n  <tbody>\n    <tr>\n      <th>SEFB</th>\n      <td>29500</td>\n    </tr>\n    <tr>\n      <th>SOC</th>\n      <td>16000</td>\n    </tr>\n    <tr>\n      <th>TISSA</th>\n      <td>36000</td>\n    </tr>\n  </tbody>\n</table>\n</div>"
     },
     "execution_count": 39,
     "metadata": {},
     "output_type": "execute_result"
    }
   ],
   "source": [
    "by_school.mean()"
   ]
  },
  {
   "cell_type": "code",
   "execution_count": 40,
   "metadata": {
    "collapsed": false,
    "pycharm": {
     "name": "#%%\n"
    }
   },
   "outputs": [
    {
     "data": {
      "text/plain": "        Grant\nSchool       \nSEFB    29500\nSOC     16000\nTISSA   36000",
      "text/html": "<div>\n<style scoped>\n    .dataframe tbody tr th:only-of-type {\n        vertical-align: middle;\n    }\n\n    .dataframe tbody tr th {\n        vertical-align: top;\n    }\n\n    .dataframe thead th {\n        text-align: right;\n    }\n</style>\n<table border=\"1\" class=\"dataframe\">\n  <thead>\n    <tr style=\"text-align: right;\">\n      <th></th>\n      <th>Grant</th>\n    </tr>\n    <tr>\n      <th>School</th>\n      <th></th>\n    </tr>\n  </thead>\n  <tbody>\n    <tr>\n      <th>SEFB</th>\n      <td>29500</td>\n    </tr>\n    <tr>\n      <th>SOC</th>\n      <td>16000</td>\n    </tr>\n    <tr>\n      <th>TISSA</th>\n      <td>36000</td>\n    </tr>\n  </tbody>\n</table>\n</div>"
     },
     "execution_count": 40,
     "metadata": {},
     "output_type": "execute_result"
    }
   ],
   "source": [
    "df.groupby('School').mean()"
   ]
  },
  {
   "cell_type": "code",
   "execution_count": 41,
   "metadata": {
    "collapsed": false,
    "pycharm": {
     "name": "#%%\n"
    }
   },
   "outputs": [
    {
     "data": {
      "text/plain": "              Grant\nSchool             \nSEFB    7778.174593\nSOC     5656.854249\nTISSA   7071.067812",
      "text/html": "<div>\n<style scoped>\n    .dataframe tbody tr th:only-of-type {\n        vertical-align: middle;\n    }\n\n    .dataframe tbody tr th {\n        vertical-align: top;\n    }\n\n    .dataframe thead th {\n        text-align: right;\n    }\n</style>\n<table border=\"1\" class=\"dataframe\">\n  <thead>\n    <tr style=\"text-align: right;\">\n      <th></th>\n      <th>Grant</th>\n    </tr>\n    <tr>\n      <th>School</th>\n      <th></th>\n    </tr>\n  </thead>\n  <tbody>\n    <tr>\n      <th>SEFB</th>\n      <td>7778.174593</td>\n    </tr>\n    <tr>\n      <th>SOC</th>\n      <td>5656.854249</td>\n    </tr>\n    <tr>\n      <th>TISSA</th>\n      <td>7071.067812</td>\n    </tr>\n  </tbody>\n</table>\n</div>"
     },
     "execution_count": 41,
     "metadata": {},
     "output_type": "execute_result"
    }
   ],
   "source": [
    "by_school.std()"
   ]
  },
  {
   "cell_type": "code",
   "execution_count": 42,
   "metadata": {
    "collapsed": false,
    "pycharm": {
     "name": "#%%\n"
    }
   },
   "outputs": [
    {
     "data": {
      "text/plain": "         Person  Grant\nSchool                \nSEFB       Fuad  24000\nSOC     Zabidin  12000\nTISSA      Ayob  31000",
      "text/html": "<div>\n<style scoped>\n    .dataframe tbody tr th:only-of-type {\n        vertical-align: middle;\n    }\n\n    .dataframe tbody tr th {\n        vertical-align: top;\n    }\n\n    .dataframe thead th {\n        text-align: right;\n    }\n</style>\n<table border=\"1\" class=\"dataframe\">\n  <thead>\n    <tr style=\"text-align: right;\">\n      <th></th>\n      <th>Person</th>\n      <th>Grant</th>\n    </tr>\n    <tr>\n      <th>School</th>\n      <th></th>\n      <th></th>\n    </tr>\n  </thead>\n  <tbody>\n    <tr>\n      <th>SEFB</th>\n      <td>Fuad</td>\n      <td>24000</td>\n    </tr>\n    <tr>\n      <th>SOC</th>\n      <td>Zabidin</td>\n      <td>12000</td>\n    </tr>\n    <tr>\n      <th>TISSA</th>\n      <td>Ayob</td>\n      <td>31000</td>\n    </tr>\n  </tbody>\n</table>\n</div>"
     },
     "execution_count": 42,
     "metadata": {},
     "output_type": "execute_result"
    }
   ],
   "source": [
    "by_school.min()"
   ]
  },
  {
   "cell_type": "code",
   "execution_count": 43,
   "metadata": {
    "collapsed": false,
    "pycharm": {
     "name": "#%%\n"
    }
   },
   "outputs": [
    {
     "data": {
      "text/plain": "        Person  Grant\nSchool               \nSEFB     Halim  35000\nSOC     Zhamri  20000\nTISSA    Hairi  41000",
      "text/html": "<div>\n<style scoped>\n    .dataframe tbody tr th:only-of-type {\n        vertical-align: middle;\n    }\n\n    .dataframe tbody tr th {\n        vertical-align: top;\n    }\n\n    .dataframe thead th {\n        text-align: right;\n    }\n</style>\n<table border=\"1\" class=\"dataframe\">\n  <thead>\n    <tr style=\"text-align: right;\">\n      <th></th>\n      <th>Person</th>\n      <th>Grant</th>\n    </tr>\n    <tr>\n      <th>School</th>\n      <th></th>\n      <th></th>\n    </tr>\n  </thead>\n  <tbody>\n    <tr>\n      <th>SEFB</th>\n      <td>Halim</td>\n      <td>35000</td>\n    </tr>\n    <tr>\n      <th>SOC</th>\n      <td>Zhamri</td>\n      <td>20000</td>\n    </tr>\n    <tr>\n      <th>TISSA</th>\n      <td>Hairi</td>\n      <td>41000</td>\n    </tr>\n  </tbody>\n</table>\n</div>"
     },
     "execution_count": 43,
     "metadata": {},
     "output_type": "execute_result"
    }
   ],
   "source": [
    "by_school.max()"
   ]
  },
  {
   "cell_type": "code",
   "execution_count": 44,
   "metadata": {
    "collapsed": false,
    "pycharm": {
     "name": "#%%\n"
    }
   },
   "outputs": [
    {
     "data": {
      "text/plain": "        Person  Grant\nSchool               \nSEFB         2      2\nSOC          2      2\nTISSA        2      2",
      "text/html": "<div>\n<style scoped>\n    .dataframe tbody tr th:only-of-type {\n        vertical-align: middle;\n    }\n\n    .dataframe tbody tr th {\n        vertical-align: top;\n    }\n\n    .dataframe thead th {\n        text-align: right;\n    }\n</style>\n<table border=\"1\" class=\"dataframe\">\n  <thead>\n    <tr style=\"text-align: right;\">\n      <th></th>\n      <th>Person</th>\n      <th>Grant</th>\n    </tr>\n    <tr>\n      <th>School</th>\n      <th></th>\n      <th></th>\n    </tr>\n  </thead>\n  <tbody>\n    <tr>\n      <th>SEFB</th>\n      <td>2</td>\n      <td>2</td>\n    </tr>\n    <tr>\n      <th>SOC</th>\n      <td>2</td>\n      <td>2</td>\n    </tr>\n    <tr>\n      <th>TISSA</th>\n      <td>2</td>\n      <td>2</td>\n    </tr>\n  </tbody>\n</table>\n</div>"
     },
     "execution_count": 44,
     "metadata": {},
     "output_type": "execute_result"
    }
   ],
   "source": [
    "by_school.count()"
   ]
  },
  {
   "cell_type": "code",
   "execution_count": 45,
   "metadata": {
    "collapsed": false,
    "pycharm": {
     "name": "#%%\n"
    }
   },
   "outputs": [
    {
     "data": {
      "text/plain": "       Grant                                                            \\\n       count     mean          std      min      25%      50%      75%   \nSchool                                                                   \nSEFB     2.0  29500.0  7778.174593  24000.0  26750.0  29500.0  32250.0   \nSOC      2.0  16000.0  5656.854249  12000.0  14000.0  16000.0  18000.0   \nTISSA    2.0  36000.0  7071.067812  31000.0  33500.0  36000.0  38500.0   \n\n                 \n            max  \nSchool           \nSEFB    35000.0  \nSOC     20000.0  \nTISSA   41000.0  ",
      "text/html": "<div>\n<style scoped>\n    .dataframe tbody tr th:only-of-type {\n        vertical-align: middle;\n    }\n\n    .dataframe tbody tr th {\n        vertical-align: top;\n    }\n\n    .dataframe thead tr th {\n        text-align: left;\n    }\n\n    .dataframe thead tr:last-of-type th {\n        text-align: right;\n    }\n</style>\n<table border=\"1\" class=\"dataframe\">\n  <thead>\n    <tr>\n      <th></th>\n      <th colspan=\"8\" halign=\"left\">Grant</th>\n    </tr>\n    <tr>\n      <th></th>\n      <th>count</th>\n      <th>mean</th>\n      <th>std</th>\n      <th>min</th>\n      <th>25%</th>\n      <th>50%</th>\n      <th>75%</th>\n      <th>max</th>\n    </tr>\n    <tr>\n      <th>School</th>\n      <th></th>\n      <th></th>\n      <th></th>\n      <th></th>\n      <th></th>\n      <th></th>\n      <th></th>\n      <th></th>\n    </tr>\n  </thead>\n  <tbody>\n    <tr>\n      <th>SEFB</th>\n      <td>2.0</td>\n      <td>29500.0</td>\n      <td>7778.174593</td>\n      <td>24000.0</td>\n      <td>26750.0</td>\n      <td>29500.0</td>\n      <td>32250.0</td>\n      <td>35000.0</td>\n    </tr>\n    <tr>\n      <th>SOC</th>\n      <td>2.0</td>\n      <td>16000.0</td>\n      <td>5656.854249</td>\n      <td>12000.0</td>\n      <td>14000.0</td>\n      <td>16000.0</td>\n      <td>18000.0</td>\n      <td>20000.0</td>\n    </tr>\n    <tr>\n      <th>TISSA</th>\n      <td>2.0</td>\n      <td>36000.0</td>\n      <td>7071.067812</td>\n      <td>31000.0</td>\n      <td>33500.0</td>\n      <td>36000.0</td>\n      <td>38500.0</td>\n      <td>41000.0</td>\n    </tr>\n  </tbody>\n</table>\n</div>"
     },
     "execution_count": 45,
     "metadata": {},
     "output_type": "execute_result"
    }
   ],
   "source": [
    "by_school.describe()"
   ]
  },
  {
   "cell_type": "code",
   "execution_count": 46,
   "metadata": {
    "collapsed": false,
    "pycharm": {
     "name": "#%%\n"
    }
   },
   "outputs": [
    {
     "data": {
      "text/plain": "School               SEFB           SOC         TISSA\nGrant count      2.000000      2.000000      2.000000\n      mean   29500.000000  16000.000000  36000.000000\n      std     7778.174593   5656.854249   7071.067812\n      min    24000.000000  12000.000000  31000.000000\n      25%    26750.000000  14000.000000  33500.000000\n      50%    29500.000000  16000.000000  36000.000000\n      75%    32250.000000  18000.000000  38500.000000\n      max    35000.000000  20000.000000  41000.000000",
      "text/html": "<div>\n<style scoped>\n    .dataframe tbody tr th:only-of-type {\n        vertical-align: middle;\n    }\n\n    .dataframe tbody tr th {\n        vertical-align: top;\n    }\n\n    .dataframe thead th {\n        text-align: right;\n    }\n</style>\n<table border=\"1\" class=\"dataframe\">\n  <thead>\n    <tr style=\"text-align: right;\">\n      <th></th>\n      <th>School</th>\n      <th>SEFB</th>\n      <th>SOC</th>\n      <th>TISSA</th>\n    </tr>\n  </thead>\n  <tbody>\n    <tr>\n      <th rowspan=\"8\" valign=\"top\">Grant</th>\n      <th>count</th>\n      <td>2.000000</td>\n      <td>2.000000</td>\n      <td>2.000000</td>\n    </tr>\n    <tr>\n      <th>mean</th>\n      <td>29500.000000</td>\n      <td>16000.000000</td>\n      <td>36000.000000</td>\n    </tr>\n    <tr>\n      <th>std</th>\n      <td>7778.174593</td>\n      <td>5656.854249</td>\n      <td>7071.067812</td>\n    </tr>\n    <tr>\n      <th>min</th>\n      <td>24000.000000</td>\n      <td>12000.000000</td>\n      <td>31000.000000</td>\n    </tr>\n    <tr>\n      <th>25%</th>\n      <td>26750.000000</td>\n      <td>14000.000000</td>\n      <td>33500.000000</td>\n    </tr>\n    <tr>\n      <th>50%</th>\n      <td>29500.000000</td>\n      <td>16000.000000</td>\n      <td>36000.000000</td>\n    </tr>\n    <tr>\n      <th>75%</th>\n      <td>32250.000000</td>\n      <td>18000.000000</td>\n      <td>38500.000000</td>\n    </tr>\n    <tr>\n      <th>max</th>\n      <td>35000.000000</td>\n      <td>20000.000000</td>\n      <td>41000.000000</td>\n    </tr>\n  </tbody>\n</table>\n</div>"
     },
     "execution_count": 46,
     "metadata": {},
     "output_type": "execute_result"
    }
   ],
   "source": [
    "by_school.describe().transpose()"
   ]
  },
  {
   "cell_type": "code",
   "execution_count": 47,
   "metadata": {
    "collapsed": false,
    "pycharm": {
     "name": "#%%\n"
    }
   },
   "outputs": [
    {
     "data": {
      "text/plain": "Grant  count        2.000000\n       mean     36000.000000\n       std       7071.067812\n       min      31000.000000\n       25%      33500.000000\n       50%      36000.000000\n       75%      38500.000000\n       max      41000.000000\nName: TISSA, dtype: float64"
     },
     "execution_count": 47,
     "metadata": {},
     "output_type": "execute_result"
    }
   ],
   "source": [
    "by_school.describe().transpose()['TISSA']"
   ]
  }
 ],
 "metadata": {
  "kernelspec": {
   "display_name": "Python 3",
   "language": "python",
   "name": "python3"
  },
  "language_info": {
   "codemirror_mode": {
    "name": "ipython",
    "version": 3
   },
   "file_extension": ".py",
   "mimetype": "text/x-python",
   "name": "python",
   "nbconvert_exporter": "python",
   "pygments_lexer": "ipython3",
   "version": "3.5.1"
  }
 },
 "nbformat": 4,
 "nbformat_minor": 0
}